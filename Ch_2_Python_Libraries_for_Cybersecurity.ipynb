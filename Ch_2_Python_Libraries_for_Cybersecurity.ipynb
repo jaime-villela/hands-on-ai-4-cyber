{
  "nbformat": 4,
  "nbformat_minor": 0,
  "metadata": {
    "colab": {
      "provenance": [],
      "authorship_tag": "ABX9TyNHeWCNg+80FiaY1dY71wSq",
      "include_colab_link": true
    },
    "kernelspec": {
      "name": "python3",
      "display_name": "Python 3"
    },
    "language_info": {
      "name": "python"
    },
    "accelerator": "GPU",
    "gpuClass": "standard"
  },
  "cells": [
    {
      "cell_type": "markdown",
      "metadata": {
        "id": "view-in-github",
        "colab_type": "text"
      },
      "source": [
        "<a href=\"https://colab.research.google.com/github/jaime-villela/hands-on-ai-4-cyber/blob/main/Ch_2_Python_Libraries_for_Cybersecurity.ipynb\" target=\"_parent\"><img src=\"https://colab.research.google.com/assets/colab-badge.svg\" alt=\"Open In Colab\"/></a>"
      ]
    },
    {
      "cell_type": "code",
      "execution_count": null,
      "metadata": {
        "id": "Nv7nvFvIzrd2",
        "colab": {
          "base_uri": "https://localhost:8080/"
        },
        "outputId": "3f212043-9689-40f1-b05e-0e1521729770"
      },
      "outputs": [
        {
          "output_type": "stream",
          "name": "stdout",
          "text": [
            "Hello, TensorFlow!\n"
          ]
        }
      ],
      "source": [
        "import tensorflow as tf\n",
        "hello = tf.constant('Hello, TensorFlow!')\n",
        "tf.print(hello)"
      ]
    },
    {
      "cell_type": "code",
      "source": [
        "import keras\n",
        "import torch\n"
      ],
      "metadata": {
        "id": "zNWWXwZj5ZTd"
      },
      "execution_count": null,
      "outputs": []
    }
  ]
}